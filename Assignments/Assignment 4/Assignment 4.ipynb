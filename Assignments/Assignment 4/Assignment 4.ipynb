{
 "cells": [
  {
   "cell_type": "code",
   "execution_count": 81,
   "metadata": {},
   "outputs": [
    {
     "data": {
      "image/png": "[encoded data removed]",
      "text/plain": [
       "<Figure size 432x288 with 1 Axes>"
      ]
     },
     "metadata": {
      "needs_background": "light"
     },
     "output_type": "display_data"
    }
   ],
   "source": [
    "import numpy as np\n",
    "import matplotlib.pyplot as plt\n",
    "\n",
    "mu, sigma = 0, 1 # mean and standard deviation\n",
    "X1 = np.random.normal(mu, sigma, 100)\n",
    "\n",
    "mu, sigma = 1, 1 # mean and standard deviation\n",
    "X2 = np.random.normal(mu, sigma, 100)\n",
    "\n",
    "plt.scatter(X1,X2, s=50)\n",
    "plt.show()"
   ]
  },
  {
   "cell_type": "code",
   "execution_count": 82,
   "metadata": {},
   "outputs": [
    {
     "data": {
      "image/png": "[encoded data removed]",
      "text/plain": [
       "<Figure size 432x288 with 1 Axes>"
      ]
     },
     "metadata": {
      "needs_background": "light"
     },
     "output_type": "display_data"
    }
   ],
   "source": [
    "C1=np.vstack((X1, X2)).T\n",
    "\n",
    "# Creates labels for the second class and is set to 0 to differentiate from the class 2 which is labelled as 1\n",
    "y_C1 = np.zeros(C1.shape[0])\n",
    "\n",
    "# Here we create 100 data points which are uniformly distributed around the mean 0. This is the first class.\n",
    "mu, sigma = 0, 1 # mean and standard deviation\n",
    "X1=np.random.normal(mu, sigma, 100)\n",
    "\n",
    "# Here we create 100 data points which are uniformly distributed around the mean -2. This is the second class.\n",
    "mu, sigma = -2, 1 # mean and standard deviation\n",
    "X2 = np.random.normal(mu, sigma, 100)\n",
    "\n",
    "plt.scatter(X1,X2, s=50, c='y')\n",
    "#plt.show()\n",
    "\n",
    "# Join the data from the two classes\n",
    "C2=np.vstack((X1, X2)).T\n",
    "\n",
    "# Creates labels for the second class and is set to 1 to differentiate from the class 1 which is labelled as 0\n",
    "y_C2 = np.ones(C2.shape[0])\n",
    "\n",
    "#C2=np.vstack((X1, X2)).T\n",
    "\n",
    "# Combine the data points from the two classes\n",
    "X= np.vstack((C1,C2))\n",
    "\n",
    "# Combine the labels from the two classes. 100 labelled as 0 and 100 labelled as 1\n",
    "y= np.vstack((np.array([y_C1]).T, np.array([y_C2]).T))"
   ]
  },
  {
   "cell_type": "code",
   "execution_count": 83,
   "metadata": {},
   "outputs": [],
   "source": [
    "# Importing the package to split the dataset into the training and testing dataset with 70 % training and 30 % Testing\n",
    "from sklearn.model_selection import train_test_split\n",
    "X_train, X_test, y_train, y_test = train_test_split(X, y, test_size=0.30)"
   ]
  },
  {
   "cell_type": "code",
   "execution_count": 84,
   "metadata": {},
   "outputs": [
    {
     "name": "stdout",
     "output_type": "stream",
     "text": [
      "Test Accuracy: 0.93\n"
     ]
    },
    {
     "name": "stderr",
     "output_type": "stream",
     "text": [
      "D:\\Anaconda\\lib\\site-packages\\sklearn\\utils\\validation.py:578: DataConversionWarning: A column-vector y was passed when a 1d array was expected. Please change the shape of y to (n_samples, ), for example using ravel().\n",
      "  y = column_or_1d(y, warn=True)\n"
     ]
    }
   ],
   "source": [
    "# Gaussian Naive Bayes\n",
    "from sklearn.naive_bayes import GaussianNB\n",
    "gnb_model = GaussianNB()\n",
    "\n",
    "# Fitting the data to the Gaussian Model\n",
    "gnb_model.fit(X_train, y_train)\n",
    "\n",
    "# Calculating the accuracy of the model.\n",
    "from sklearn.metrics import accuracy_score\n",
    "y_test_predict = gnb_model.predict(X_test)\n",
    "print('Test Accuracy: %.2f' %accuracy_score(y_test, y_test_predict))\n",
    "\n",
    "# Sample Output\n",
    "# Accuracy for Naive Bayes: 0.87\n"
   ]
  },
  {
   "cell_type": "code",
   "execution_count": 85,
   "metadata": {},
   "outputs": [
    {
     "name": "stdout",
     "output_type": "stream",
     "text": [
      "Test Accuracy: 0.95\n"
     ]
    },
    {
     "name": "stderr",
     "output_type": "stream",
     "text": [
      "D:\\Anaconda\\lib\\site-packages\\sklearn\\utils\\validation.py:578: DataConversionWarning: A column-vector y was passed when a 1d array was expected. Please change the shape of y to (n_samples, ), for example using ravel().\n",
      "  y = column_or_1d(y, warn=True)\n"
     ]
    }
   ],
   "source": [
    "# Linear Regression\n",
    "from sklearn.linear_model import LogisticRegression\n",
    "logic_Reg_model = LogisticRegression()\n",
    "\n",
    "# Training the model\n",
    "logic_Reg_model.fit(X_train, y_train)\n",
    "\n",
    "# Predicting the results for the testing data\n",
    "y_test_predict = logic_Reg_model.predict(X_test_C1)\n",
    "\n",
    "# Calculating the accuracy\n",
    "print('Test Accuracy: %.2f' %accuracy_score(y_test_C1, y_test_predict))\n",
    "\n",
    "# Sample Output\n",
    "# Accuracy for Logistic Regression: 0.95\n"
   ]
  },
  {
   "cell_type": "code",
   "execution_count": 86,
   "metadata": {},
   "outputs": [],
   "source": [
    "# Part 3\n",
    "# When we change the mu/mean value for the C2 class, the accuracy of the Naive Bayes algorithm\n",
    "# and the Logistic Regression decreases"
   ]
  },
  {
   "cell_type": "code",
   "execution_count": null,
   "metadata": {},
   "outputs": [],
   "source": []
  }
 ],
 "metadata": {
  "kernelspec": {
   "display_name": "Python 3",
   "language": "python",
   "name": "python3"
  },
  "language_info": {
   "codemirror_mode": {
    "name": "ipython",
    "version": 3
   },
   "file_extension": ".py",
   "mimetype": "text/x-python",
   "name": "python",
   "nbconvert_exporter": "python",
   "pygments_lexer": "ipython3",
   "version": "3.7.0"
  }
 },
 "nbformat": 4,
 "nbformat_minor": 2
}
