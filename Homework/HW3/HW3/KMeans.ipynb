{
 "cells": [
  {
   "cell_type": "code",
   "execution_count": 1,
   "metadata": {
    "collapsed": true
   },
   "outputs": [],
   "source": [
    "import random as rand\n",
    "import math\n",
    "import matplotlib.pyplot as plt\n",
    "import numpy as np"
   ]
  },
  {
   "cell_type": "code",
   "execution_count": null,
   "metadata": {
    "collapsed": true
   },
   "outputs": [],
   "source": [
    "\"\"\"class kMeans:\n",
    "\n",
    "    def __init__(self, k=1, random_state=1):\n",
    "        self.K = k\n",
    "        self.random_state = random_state\n",
    "        rand.seed(random_state)\n",
    "\n",
    "    def getClusters(self, X, c):\n",
    "        C = []\n",
    "        for i in range(len(c)):\n",
    "            C.append([])\n",
    "\n",
    "        # Assigning the points to the nearest centroids\n",
    "        for i in range(len(X)):\n",
    "            closest = -1\n",
    "            closestDist = 10000\n",
    "\n",
    "            # Looping over all the centroids\n",
    "            j = 0\n",
    "            for j in range(0, K):\n",
    "                distance = math.sqrt((X[i][0] - c[j][0]) ** 2 + (X[i][1] - c[j][1]) ** 2)\n",
    "                if distance < closestDist:\n",
    "                    closestDist = distance\n",
    "                    closest = j\n",
    "            C[closest].append(X[i])\n",
    "        return C\n",
    "\n",
    "    def fit(self, X):\n",
    "        C = []\n",
    "        c = []\n",
    "\n",
    "        picked = [False] * len(X)\n",
    "\n",
    "        # Pick k random centroids\n",
    "        for i in range(self.K):\n",
    "            while True:\n",
    "                index = rand.randint(0, len(X) - 1)\n",
    "                if picked[index]: continue\n",
    "                c.append([X[index][0], X[index][1]])\n",
    "                picked[index] = True\n",
    "                break\n",
    "\n",
    "        print(\"Initial Centroids --> \")\n",
    "        print(c)\n",
    "\n",
    "        # Initial Centroids\n",
    "        prevClusters = []\n",
    "\n",
    "        # Stopping condition: if the centroids do not move\n",
    "        if c != prevClusters:\n",
    "            C = self.getClusters(X, c)\n",
    "\n",
    "            # Assign the old centroids\n",
    "            prevClusters = c\n",
    "\n",
    "            # Getting new centroids\n",
    "            c = []\n",
    "            for i in range(len(C)):\n",
    "                lst = C[i]\n",
    "                dimension1 = 0\n",
    "                dimension2 = 0\n",
    "                for j in range(len(lst)):\n",
    "                    dimension1 += lst[j][0]\n",
    "                    dimension2 += lst[j][1]\n",
    "                dimension1 /= len(lst)\n",
    "                dimension2 /= len(lst)\n",
    "                c.append([dimension1, dimension2])\n",
    "\n",
    "\n",
    "        # For Plotting the graph\n",
    "        color = ['red', 'blue', 'orange', 'purple', 'black', 'grey', 'green']\n",
    "        for i in range(len(C)):\n",
    "            x = []\n",
    "            y = []\n",
    "            lst = C[i]\n",
    "            for j in range(len(lst)):\n",
    "                x.append(lst[j][0])\n",
    "                y.append(lst[j][1])\n",
    "                plt.scatter(x, y, color=color[i])\n",
    "\n",
    "        plt.show()\n",
    "\"\"\""
   ]
  },
  {
   "cell_type": "code",
   "execution_count": 2,
   "metadata": {
    "collapsed": false
   },
   "outputs": [],
   "source": [
    "class kMeans:\n",
    "\n",
    "    def __init__(self, k=1, random_state=1):\n",
    "        self.K = k\n",
    "        self.random_state = random_state\n",
    "        rand.seed(random_state)\n",
    "\n",
    "    def getClusters(self, X, c):\n",
    "        C = []\n",
    "        for i in range(len(c)):\n",
    "            C.append([])\n",
    "\n",
    "        # Assigning the points to the nearest centroids\n",
    "        for i in range(len(X)):\n",
    "            closest = -1\n",
    "            closestDist = 10000\n",
    "\n",
    "            # Looping over all the centroids\n",
    "            j = 0\n",
    "            for j in range(0, K):\n",
    "                distance = 0\n",
    "                for k in range(len(c[0])):\n",
    "                    distance += (X[i][k] - c[j][k]) ** 2\n",
    "                distance = math.sqrt(distance)\n",
    "                if distance < closestDist:\n",
    "                    closestDist = distance\n",
    "                    closest = j\n",
    "            C[closest].append(X[i])\n",
    "        return C\n",
    "\n",
    "    def fit(self, X):\n",
    "        C = []\n",
    "        c = []\n",
    "\n",
    "        picked = [False] * len(X)\n",
    "\n",
    "        # Pick k random centroids\n",
    "        for i in range(self.K):\n",
    "            while True:\n",
    "                index = rand.randint(0, len(X) - 1)\n",
    "                if picked[index]: continue\n",
    "                c.append(X[index])\n",
    "                picked[index] = True\n",
    "                break\n",
    "\n",
    "        print(\"Initial Centroids --> \")\n",
    "        print(c)\n",
    "\n",
    "        # Initial Centroids\n",
    "        prevClusters = []\n",
    "\n",
    "        # Stopping condition: if the centroids do not move\n",
    "        if c != prevClusters:\n",
    "            C = self.getClusters(X, c)\n",
    "\n",
    "            # Assign the old centroids\n",
    "            prevClusters = c\n",
    "\n",
    "            # Getting new centroids\n",
    "            c = []\n",
    "            for i in range(len(C)):\n",
    "                lst = C[i]\n",
    "                dimension = [0] * len(lst[0])\n",
    "                for j in range(len(lst)):\n",
    "                    for k in range(len(lst[0])):\n",
    "                        dimension[k] += lst[j][k]              \n",
    "                for k in range(len(lst[0])):\n",
    "                    dimension[k] = dimension[k] / len(lst)\n",
    "                c.append([dimension])\n",
    "\n",
    "\n",
    "        # For Plotting the graph\n",
    "        color = ['red', 'blue', 'orange', 'purple', 'black', 'grey', 'green']\n",
    "        for i in range(len(C)):\n",
    "            x = []\n",
    "            y = []\n",
    "            lst = C[i]\n",
    "            for j in range(len(lst)):\n",
    "                x.append(lst[j][0])\n",
    "                y.append(lst[j][1])\n",
    "                plt.scatter(x, y, color=color[i])\n",
    "\n",
    "        plt.show()\n"
   ]
  },
  {
   "cell_type": "code",
   "execution_count": 3,
   "metadata": {
    "collapsed": false
   },
   "outputs": [
    {
     "name": "stdout",
     "output_type": "stream",
     "text": [
      "Centroids selected are in the same cluster\n",
      "Initial Centroids --> \n",
      "[array([2, 6]), array([2, 4])]\n"
     ]
    },
    {
     "data": {
      "image/png": "[encoded data removed]",
      "text/plain": [
       "<Figure size 432x288 with 1 Axes>"
      ]
     },
     "metadata": {},
     "output_type": "display_data"
    },
    {
     "name": "stdout",
     "output_type": "stream",
     "text": [
      "Centroids selected are in the different cluster\n",
      "Initial Centroids --> \n",
      "[array([2, 6]), array([10,  6])]\n"
     ]
    },
    {
     "data": {
      "image/png": "[encoded data removed]",
      "text/plain": [
       "<Figure size 432x288 with 1 Axes>"
      ]
     },
     "metadata": {},
     "output_type": "display_data"
    }
   ],
   "source": [
    "# New Algo\n",
    "oldFaithfulData = [\n",
    "    [3.6, 79],\n",
    "    [1.8, 54],\n",
    "    [2.283, 62],\n",
    "    [3.333, 74],\n",
    "    [2.883, 55],\n",
    "    [4.533, 85],\n",
    "    [1.950, 51],\n",
    "    [1.833, 54],\n",
    "    [4.7, 88],\n",
    "    [3.6, 85],\n",
    "    [1.600, 52],\n",
    "    [4.350, 85],\n",
    "    [3.917, 84],\n",
    "    [4.2, 78],\n",
    "    [1.750, 62],\n",
    "    [1.8, 51],\n",
    "    [4.7, 83],\n",
    "    [2.167, 52],\n",
    "    [4.800, 84],\n",
    "    [1.750, 47],\n",
    "]\n",
    "\n",
    "X = np.array([[2,4],[2,6], [2,8], [10,4], [10,6], [10,8]])\n",
    "K = 2\n",
    "\n",
    "# When the cluster centroids are selected on the same side\n",
    "print(\"Centroids selected are in the same cluster\")\n",
    "kM = kMeans(K, 15)\n",
    "kM.fit(X)\n",
    "\n",
    "# When the cluster centroids are selected on the different side\n",
    "print(\"Centroids selected are in the different cluster\")\n",
    "kM = kMeans(K, 1)\n",
    "kM.fit(X)\n"
   ]
  },
  {
   "cell_type": "code",
   "execution_count": null,
   "metadata": {
    "collapsed": true
   },
   "outputs": [],
   "source": []
  }
 ],
 "metadata": {
  "kernelspec": {
   "display_name": "Python [conda root]",
   "language": "python",
   "name": "conda-root-py"
  },
  "language_info": {
   "codemirror_mode": {
    "name": "ipython",
    "version": 3
   },
   "file_extension": ".py",
   "mimetype": "text/x-python",
   "name": "python",
   "nbconvert_exporter": "python",
   "pygments_lexer": "ipython3",
   "version": "3.6.3"
  }
 },
 "nbformat": 4,
 "nbformat_minor": 2
}
